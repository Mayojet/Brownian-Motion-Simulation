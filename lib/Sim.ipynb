{
 "cells": [
  {
   "attachments": {},
   "cell_type": "markdown",
   "id": "20b7e0fa",
   "metadata": {},
   "source": [
    "# Brownian Class"
   ]
  },
  {
   "cell_type": "code",
   "execution_count": 26,
   "id": "cb3c40b1",
   "metadata": {},
   "outputs": [],
   "source": [
    "import numpy as np\n",
    "import matplotlib.pyplot as plt\n",
    "from matplotlib.patches import Rectangle\n",
    "\n",
    "class Brownian():\n",
    "\n",
    "    #Constructor for Brownian class\n",
    "    def __init__(self, M=500):\n",
    "        # Initialize the Brownian motion class\n",
    "        assert type(M) == int\n",
    "\n",
    "        self.M = M\n",
    "        self.board = np.zeros((M, M))\n",
    "\n",
    "        # Set walls along the sides of the board\n",
    "        self.board[0, :] = 1\n",
    "        self.board[-1, :] = 1\n",
    "        self.board[:, 0] = 1\n",
    "        self.board[:, -1] = 1\n",
    "\n",
    "        self.holes = []\n",
    "\n",
    "        # Generate three random holes on the board\n",
    "        for _ in range(3):\n",
    "            hole_width = np.random.randint(1, M//4)\n",
    "            hole_height = np.random.randint(1, M//4)\n",
    "            hole_x = np.random.randint(1, M - hole_width - 1)\n",
    "            hole_y = np.random.randint(1, M - hole_height - 1)\n",
    "\n",
    "            # Set the corresponding area of the hole as 1 in the board\n",
    "            self.board[hole_x:hole_x+hole_width, hole_y:hole_y+hole_height] = 1\n",
    "            self.holes.append((hole_x, hole_y, hole_width, hole_height))\n",
    "\n",
    "\n",
    "    # Generate a random walk that avoids holes\n",
    "    def gen_random_walk(self, n_steps=100000):\n",
    "        \n",
    "        x = np.zeros(n_steps)\n",
    "        y = np.zeros(n_steps)\n",
    "\n",
    "        for i in range(n_steps):\n",
    "            choice = np.random.randint(4)\n",
    "            dx, dy = self._get_direction(choice)\n",
    "\n",
    "            new_x = x[i-1] + dx\n",
    "            new_y = y[i-1] + dy\n",
    "\n",
    "            # Check if the next position is occupied by a hole\n",
    "            while self._is_hole(new_x, new_y):\n",
    "                choice = np.random.randint(4)\n",
    "                dx, dy = self._get_direction(choice)\n",
    "                new_x = x[i-1] + dx\n",
    "                new_y = y[i-1] + dy\n",
    "\n",
    "            x[i] = new_x\n",
    "            y[i] = new_y\n",
    "\n",
    "        return x, y\n",
    "    \n",
    "\n",
    "    # Get the direction based on the choice\n",
    "    def _get_direction(self, choice):\n",
    "        if choice == 0:\n",
    "            return 0, 1  # Up\n",
    "        elif choice == 1:\n",
    "            return 0, -1  # Down\n",
    "        elif choice == 2:\n",
    "            return 1, 0  # Right\n",
    "        else:\n",
    "            return -1, 0  # Left\n",
    "        \n",
    "\n",
    "    # Check if the given position is occupied by a hole\n",
    "    def _is_hole(self, x, y):\n",
    "        for hole in self.holes:\n",
    "            hole_x, hole_y, hole_width, hole_height = hole\n",
    "            if hole_x <= x < hole_x + hole_width and hole_y <= y < hole_y + hole_height:\n",
    "                return True\n",
    "        return False\n",
    "\n",
    "\n",
    "    # Draw the plot of the generated walk with random holes\n",
    "    def draw_plot(self, walk):\n",
    "        fig, ax = plt.subplots()\n",
    "        ax.plot(walk[0], walk[1], color='#FF3F3F', label='Walk')\n",
    "\n",
    "        for hole in self.holes:\n",
    "            hole_x, hole_y, hole_width, hole_height = hole\n",
    "            rect = Rectangle((hole_y, hole_x), hole_height, hole_width, facecolor='#2777B3', alpha=0.4)\n",
    "            ax.add_patch(rect)\n",
    "            rect_shadow = Rectangle((hole_y - 0.5, hole_x - 0.5), hole_height + 1, hole_width + 1,\n",
    "                                    facecolor='#D3D3D3', alpha=0.3, hatch='/////')\n",
    "            ax.add_patch(rect_shadow)\n",
    "\n",
    "        plt.legend()\n",
    "        plt.xlabel('X')\n",
    "        plt.ylabel('Y')\n",
    "        plt.title('Random Walk with Holes')\n",
    "        plt.grid(True, linestyle='--', alpha=0.7)\n",
    "        plt.show()\n",
    "\n"
   ]
  },
  {
   "attachments": {},
   "cell_type": "markdown",
   "id": "5fd47cb4",
   "metadata": {},
   "source": [
    "# Example Usage"
   ]
  },
  {
   "cell_type": "code",
   "execution_count": 27,
   "id": "384c115d",
   "metadata": {},
   "outputs": [
    {
     "data": {
      "image/png": "[encoded data removed]",
      "text/plain": [
       "<Figure size 432x288 with 1 Axes>"
      ]
     },
     "metadata": {
      "needs_background": "light"
     },
     "output_type": "display_data"
    }
   ],
   "source": [
    "# Example usage\n",
    "n_steps = 100000  # Number of steps in the random walk\n",
    "\n",
    "brownian = Brownian()  # Initialize Brownian object with default board size\n",
    "random_walk = brownian.gen_random_walk(n_steps)  # Generate a random walk\n",
    "\n",
    "brownian.draw_plot(random_walk)  # Draw the plot"
   ]
  }
 ],
 "metadata": {
  "kernelspec": {
   "display_name": "Python 3 (ipykernel)",
   "language": "python",
   "name": "python3"
  },
  "language_info": {
   "codemirror_mode": {
    "name": "ipython",
    "version": 3
   },
   "file_extension": ".py",
   "mimetype": "text/x-python",
   "name": "python",
   "nbconvert_exporter": "python",
   "pygments_lexer": "ipython3",
   "version": "3.9.12"
  }
 },
 "nbformat": 4,
 "nbformat_minor": 5
}
