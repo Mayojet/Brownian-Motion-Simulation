{
 "cells": [
  {
   "cell_type": "code",
   "execution_count": 9,
   "id": "cb3c40b1",
   "metadata": {},
   "outputs": [],
   "source": [
    "import numpy as np\n",
    "import matplotlib.pyplot as plt\n",
    "\n",
    "\n",
    "class Brownian():\n",
    "    # A Brownian motion class constructor\n",
    "    def __init__(self, M):\n",
    "        #Draw the board for molecule to move\n",
    "        assert (type(x0)== int)\n",
    "        \n",
    "        self.M = M\n",
    "        self.board = np.array([M][M])\n",
    "        \n",
    "        #Represent walls as 1s otherwise 0s\n",
    "        for i in range (0, M-1):\n",
    "            for j in range (0, M-1):\n",
    "                if(i == 0 or i == M or j == 0 or j == M): self.board[i][j] = 1\n",
    "                else: self.board[i][j] = 0"
   ]
  },
  {
   "cell_type": "code",
   "execution_count": 12,
   "id": "7fa3d9cc",
   "metadata": {},
   "outputs": [],
   "source": [
    "    # Generate a random walk by n steps, return two array that has the position of particles\n",
    "    def gen_random_walk(self,n_step=1000):\n",
    "\n",
    "        # Warning about the small number of steps\n",
    "        if n_step < 30:\n",
    "            print(\"WARNING! The number of steps is small. It can not generate a good simulation sequence!\")\n",
    "        \n",
    "        if n_step > self.M: \n",
    "            print(\"WARNING! The number of steps is big. It can not generate a good simulation sequence!\")\n",
    "        \n",
    "        w = np.array([n_steps][n_steps])\n",
    "        \n",
    "        # Simulate two independent one-dimensional Brownian processes to form a single two-dimensional Brownian process\n",
    "        x = np.cumsum(np.random.randn(n_steps))\n",
    "        y = np.cumsum(np.random.randn(n_steps))\n",
    "        \n",
    "\n",
    "        fig, ax = plt.subplots(1, 1, figsize=(8, 8))\n",
    "        # Now, we draw our points with a gradient of colors.\n",
    "        ax.scatter(x, y, linewidths=0, marker='o', s=3, cmap=plt.cm.jet,)\n",
    "        ax.axis('equal')\n",
    "        return ax.set_axis_off()"
   ]
  },
  {
   "cell_type": "code",
   "execution_count": null,
   "id": "384c115d",
   "metadata": {},
   "outputs": [],
   "source": []
  },
  {
   "cell_type": "code",
   "execution_count": null,
   "id": "96752ae8",
   "metadata": {},
   "outputs": [],
   "source": []
  }
 ],
 "metadata": {
  "kernelspec": {
   "display_name": "Python 3 (ipykernel)",
   "language": "python",
   "name": "python3"
  },
  "language_info": {
   "codemirror_mode": {
    "name": "ipython",
    "version": 3
   },
   "file_extension": ".py",
   "mimetype": "text/x-python",
   "name": "python",
   "nbconvert_exporter": "python",
   "pygments_lexer": "ipython3",
   "version": "3.10.9"
  }
 },
 "nbformat": 4,
 "nbformat_minor": 5
}
