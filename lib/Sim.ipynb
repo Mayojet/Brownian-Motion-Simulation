{
 "cells": [
  {
   "cell_type": "code",
   "execution_count": 36,
   "id": "cb3c40b1",
   "metadata": {},
   "outputs": [],
   "source": [
    "import numpy as np\n",
    "import matplotlib.pyplot as plt\n",
    "\n",
    "\n",
    "class Brownian():\n",
    "    # A Brownian motion class constructor\n",
    "    def __init__(self, M):\n",
    "        #Draw the board for molecule to move\n",
    "        assert (type(M)== int)\n",
    "        \n",
    "        self.M = M\n",
    "        self.board = np.zeros((M,M))\n",
    "        \n",
    "        #Represent walls as 1s otherwise 0s\n",
    "        for i in range (0, M-1):\n",
    "            for j in range (0, M-1):\n",
    "                if(i == 0 or i == M or j == 0 or j == M): self.board[i][j] = 1\n",
    "               \n",
    "    # Generate a random walk by n steps, return two array that has the position of particles\n",
    "    def gen_random_walk(self,n_step=1000):\n",
    "\n",
    "        # Warning about the small number of steps\n",
    "        if n_step < 30:\n",
    "            print(\"WARNING! The number of steps is small. It can not generate a good simulation sequence!\")\n",
    "        \n",
    "        if n_step > self.M: \n",
    "            print(\"WARNING! The number of steps is big. It can not generate a good simulation sequence!\")\n",
    "        \n",
    "        x = np.zeros(n_step)\n",
    "        y = np.zeros(n_step)\n",
    "        w = [x,y]\n",
    "        \n",
    "        #randomly start position\n",
    "        initial_position_x = np.random.random_integers(0, n_step)\n",
    "        initial_position_y = np.random.random_integers(0, n_step)\n",
    "        x[0] = initial_position_x\n",
    "        y[0]= initial_position_y\n",
    "        count = 0\n",
    "        \n",
    "        #curr pointer\n",
    "        curr_x = initial_position_x\n",
    "        curr_y = initial_position_y\n",
    "        \n",
    "        #randomly walk\n",
    "        while (count < n_step - 1):\n",
    "            choice = np.random.randint(4)\n",
    "            #go up\n",
    "            if choice == 0 : curr_y += 1\n",
    "            #go down\n",
    "            elif choice == 1 : curr_y -= 1\n",
    "            #go right\n",
    "            elif choice == 2 : curr_x += 1\n",
    "            #go left\n",
    "            else: curr_x -= 1\n",
    "            \n",
    "            #record the position\n",
    "            x[count + 1] = curr_x\n",
    "            y[count + 1] = curr_y\n",
    "            count +=1\n",
    "        \n",
    "        \n",
    "        return w            \n",
    "        "
   ]
  },
  {
   "cell_type": "code",
   "execution_count": 21,
   "id": "7fa3d9cc",
   "metadata": {},
   "outputs": [],
   "source": []
  },
  {
   "cell_type": "code",
   "execution_count": 41,
   "id": "384c115d",
   "metadata": {},
   "outputs": [
    {
     "name": "stderr",
     "output_type": "stream",
     "text": [
      "/var/folders/p3/4gx8p5sd12n7zs1l1qj00v_00000gn/T/ipykernel_28305/3386812599.py:34: DeprecationWarning: This function is deprecated. Please call randint(0, 1000 + 1) instead\n",
      "  initial_position_x = np.random.random_integers(0, n_step)\n",
      "/var/folders/p3/4gx8p5sd12n7zs1l1qj00v_00000gn/T/ipykernel_28305/3386812599.py:35: DeprecationWarning: This function is deprecated. Please call randint(0, 1000 + 1) instead\n",
      "  initial_position_y = np.random.random_integers(0, n_step)\n",
      "/var/folders/p3/4gx8p5sd12n7zs1l1qj00v_00000gn/T/ipykernel_28305/3846723129.py:5: UserWarning: No data for colormapping provided via 'c'. Parameters 'cmap' will be ignored\n",
      "  ax.scatter(w[0], w[1], linewidths=0, marker='o', s=3, cmap=plt.cm.jet,)\n"
     ]
    },
    {
     "data": {
      "text/plain": [
       "<matplotlib.collections.PathCollection at 0x10cfb7040>"
      ]
     },
     "execution_count": 41,
     "metadata": {},
     "output_type": "execute_result"
    }
   ],
   "source": [
    "b = Brownian(1000)\n",
    "w = b.gen_random_walk(1000)\n",
    "#fig, ax = plt.subplots(1, 1, figsize=(8, 8))\n",
    "# Now, we draw our points with a gradient of colors.\n",
    "#ax.scatter(w[0], w[1], linewidths=0, marker='o', s=3, cmap=plt.cm.jet,)\n",
    "\n"
   ]
  },
  {
   "cell_type": "code",
   "execution_count": null,
   "id": "96752ae8",
   "metadata": {},
   "outputs": [],
   "source": []
  }
 ],
 "metadata": {
  "kernelspec": {
   "display_name": "Python 3 (ipykernel)",
   "language": "python",
   "name": "python3"
  },
  "language_info": {
   "codemirror_mode": {
    "name": "ipython",
    "version": 3
   },
   "file_extension": ".py",
   "mimetype": "text/x-python",
   "name": "python",
   "nbconvert_exporter": "python",
   "pygments_lexer": "ipython3",
   "version": "3.10.9"
  }
 },
 "nbformat": 4,
 "nbformat_minor": 5
}
