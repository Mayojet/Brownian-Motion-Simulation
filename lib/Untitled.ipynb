{
 "cells": [
  {
   "cell_type": "code",
   "execution_count": 2,
   "id": "a7a0a4fb",
   "metadata": {},
   "outputs": [],
   "source": [
    "import numpy as np\n",
    "import matplotlib.pyplot as plt\n",
    "\n",
    "\n",
    "class Brownian():\n",
    "    # A Brownian motion class constructor\n",
    "    def __init__(self,x0=0):\n",
    "        #Expect a float or None for the initial value\n",
    "        assert (type(x0)==float or type(x0)==int or x0 is None)\n",
    "        self.x0 = float(x0)\n",
    "\n",
    "    #Generate a random walk by n steps\n",
    "    def gen_random_walk(self,n_step=1000):\n",
    "\n",
    "        # Warning about the small number of steps\n",
    "        if n_step < 30:\n",
    "            print(\"WARNING! The number of steps is small. It may not generate a good stochastic process sequence!\")\n",
    "        \n",
    "        w = np.ones(n_step)*self.x0\n",
    "        \n",
    "        for i in range(1,n_step):\n",
    "            # Sampling from the Normal distribution with probability 1/2\n",
    "            yi = np.random.choice([1,-1])\n",
    "            # Weiner process\n",
    "            w[i] = w[i-1]+(yi/np.sqrt(n_step))\n",
    "        \n",
    "        return w\n",
    "    #Generate motion by drawing from the Normal distribution\n",
    "    def gen_normal(self,n_step=1000):\n",
    "    \n",
    "        if n_step < 30:\n",
    "            print(\"WARNING! The number of steps is small. It may not generate a good stochastic process sequence!\")\n",
    "        \n",
    "        w = np.ones(n_step)*self.x0\n",
    "        \n",
    "        for i in range(1,n_step):\n",
    "            # Sampling from the Normal distribution\n",
    "            yi = np.random.normal()\n",
    "            # Weiner process\n",
    "            w[i] = w[i-1]+(yi/np.sqrt(n_step))\n",
    "        \n",
    "        return w\n",
    "    \n"
   ]
  },
  {
   "cell_type": "code",
   "execution_count": null,
   "id": "ca2a2f5b",
   "metadata": {},
   "outputs": [],
   "source": []
  }
 ],
 "metadata": {
  "kernelspec": {
   "display_name": "Python 3 (ipykernel)",
   "language": "python",
   "name": "python3"
  },
  "language_info": {
   "codemirror_mode": {
    "name": "ipython",
    "version": 3
   },
   "file_extension": ".py",
   "mimetype": "text/x-python",
   "name": "python",
   "nbconvert_exporter": "python",
   "pygments_lexer": "ipython3",
   "version": "3.9.12"
  }
 },
 "nbformat": 4,
 "nbformat_minor": 5
}
